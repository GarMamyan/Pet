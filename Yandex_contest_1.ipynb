{
 "cells": [
  {
   "cell_type": "code",
   "execution_count": 167,
   "metadata": {},
   "outputs": [
    {
     "name": "stdout",
     "output_type": "stream",
     "text": [
      "1\n"
     ]
    }
   ],
   "source": [
    "import random as rn\n",
    "import numpy as np\n",
    "print(rn.randint(0,1))\n",
    "\n"
   ]
  },
  {
   "cell_type": "code",
   "execution_count": 168,
   "metadata": {},
   "outputs": [
    {
     "name": "stdout",
     "output_type": "stream",
     "text": [
      "2\n",
      "4\n"
     ]
    }
   ],
   "source": [
    "a = [1,1,0,1,1,1,0,1]\n",
    "for i in range(len(a)-1):\n",
    "    if a[i] == 1 and a[i+1] == 1:\n",
    "        print (i+2)\n",
    "        break\n",
    "for i in range(len(a)-1):\n",
    "    if a[i] == 0 and a[i+1] == 1:\n",
    "        print (i+2)\n",
    "        break\n",
    "\n",
    "\n",
    "        "
   ]
  },
  {
   "cell_type": "code",
   "execution_count": 69,
   "metadata": {},
   "outputs": [
    {
     "name": "stdout",
     "output_type": "stream",
     "text": [
      "-1.49812\n"
     ]
    }
   ],
   "source": [
    "import random\n",
    "import pandas as pd\n",
    "o = ['+','-']\n",
    "h = []\n",
    "for i in range(100000):\n",
    "    i = 0\n",
    "    b = 0\n",
    "    c = 0\n",
    "    s = ''\n",
    "    while '++' not in s and '-+' not in s:\n",
    "        s += random.choice(o)\n",
    "        if i != 0:\n",
    "            if s[i-1] + s[i] == '++' and b == 0:\n",
    "                b = i\n",
    "            elif s[i-1] + s[i] == '-+' and b == 0:\n",
    "                c = i\n",
    "        i += 1\n",
    "    h.append(b-c)\n",
    "print(sum(h)/len(h))"
   ]
  },
  {
   "cell_type": "code",
   "execution_count": 101,
   "metadata": {},
   "outputs": [
    {
     "name": "stdout",
     "output_type": "stream",
     "text": [
      "1.9985600000000003\n"
     ]
    }
   ],
   "source": [
    "import random as rn\n",
    "import numpy as np\n",
    "\n",
    "def razn(n):\n",
    "    myProb = []\n",
    "    Ya = 0\n",
    "    Pe = 0\n",
    "    for j in range (n):\n",
    "        myProb = []\n",
    "        for k in range(100):\n",
    "            test = np.random.choice(np.arange(0, 2), p=[0.5, 0.5])\n",
    "            myProb.append(test)\n",
    "        # print(myProb)\n",
    "        for i in range(len(myProb)-1):\n",
    "            if myProb[i] == 1 and myProb[i+1] == 1:\n",
    "                Ya += (i+2)\n",
    "                break\n",
    "        for d in range(len(myProb)-1):\n",
    "            if myProb[d] == 0 and  myProb[d+1] == 1:\n",
    "                Pe += (d+2)\n",
    "                break\n",
    "    Avg_Ya = Ya/n\n",
    "    Avg_Pe = Pe/n\n",
    "\n",
    "    return Avg_Ya - Avg_Pe\n",
    "\n",
    "\n",
    "\n",
    "mas=[]\n",
    "\n",
    "for l in range (100):\n",
    "    mas.append(razn(1000))\n",
    "print(sum(mas)/len(mas))\n",
    "\n",
    "    \n",
    "\n"
   ]
  },
  {
   "cell_type": "markdown",
   "metadata": {},
   "source": []
  },
  {
   "cell_type": "code",
   "execution_count": null,
   "metadata": {},
   "outputs": [
    {
     "name": "stdout",
     "output_type": "stream",
     "text": [
      "1.9979100000000003\n"
     ]
    }
   ],
   "source": [
    "import random as rn\n",
    "import numpy as np\n",
    "\n",
    "def razn(n):\n",
    "    myProb = []\n",
    "    Ya = 0\n",
    "    Pe = 0\n",
    "    for j in range (n):\n",
    "        myProb = []\n",
    "        for k in range(100):\n",
    "            test = np.random.choice(np.arange(0, 2), p=[0.5, 0.5])\n",
    "            myProb.append(test)\n",
    "        # print(myProb)\n",
    "        for i in range(len(myProb)-1):\n",
    "            if myProb[i] == 1 and myProb[i+1] == 1:\n",
    "                Ya += (i+2)\n",
    "                break\n",
    "        for d in range(len(myProb)-1):\n",
    "            if myProb[d] == 0 and  myProb[d+1] == 1:\n",
    "                Pe += (d+2)\n",
    "                break\n",
    "    Avg_Ya = Ya/n\n",
    "    Avg_Pe = Pe/n\n",
    "\n",
    "    return Avg_Ya - Avg_Pe\n",
    "\n",
    "\n",
    "\n",
    "mas=[]\n",
    "\n",
    "for l in range (100):\n",
    "    mas.append(razn(1000))\n",
    "print(sum(mas)/len(mas))\n",
    "\n",
    "    \n",
    "\n"
   ]
  },
  {
   "cell_type": "code",
   "execution_count": 103,
   "metadata": {},
   "outputs": [
    {
     "name": "stdout",
     "output_type": "stream",
     "text": [
      "1.9738999999999998\n"
     ]
    }
   ],
   "source": [
    "import random as rn\n",
    "import numpy as np\n",
    "\n",
    "def razn(n):\n",
    "    myProb = []\n",
    "    Ya = 0\n",
    "    Pe = 0\n",
    "    for j in range (n):\n",
    "        myProb = []\n",
    "        for k in range(100):\n",
    "            test = np.random.choice(np.arange(0, 2), p=[0.5, 0.5])\n",
    "            myProb.append(test)\n",
    "        # print(myProb)\n",
    "        for i in range(len(myProb)-1):\n",
    "            if myProb[i] == 1 and myProb[i+1] == 1:\n",
    "                Ya += (i+2)\n",
    "                break\n",
    "        for d in range(len(myProb)-1):\n",
    "            if myProb[d] == 0 and  myProb[d+1] == 1:\n",
    "                Pe += (d+2)\n",
    "                break\n",
    "    Avg_Ya = Ya/n\n",
    "    Avg_Pe = Pe/n\n",
    "\n",
    "    return Avg_Ya - Avg_Pe\n",
    "\n",
    "\n",
    "\n",
    "mas=[]\n",
    "\n",
    "for l in range (100):\n",
    "    mas.append(razn(1000))\n",
    "print(sum(mas)/len(mas))\n",
    "\n",
    "    \n",
    "\n"
   ]
  }
 ],
 "metadata": {
  "kernelspec": {
   "display_name": "base",
   "language": "python",
   "name": "python3"
  },
  "language_info": {
   "codemirror_mode": {
    "name": "ipython",
    "version": 3
   },
   "file_extension": ".py",
   "mimetype": "text/x-python",
   "name": "python",
   "nbconvert_exporter": "python",
   "pygments_lexer": "ipython3",
   "version": "3.11.4"
  }
 },
 "nbformat": 4,
 "nbformat_minor": 2
}
